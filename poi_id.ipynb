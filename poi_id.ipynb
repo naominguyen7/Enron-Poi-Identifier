{
 "cells": [
  {
   "cell_type": "markdown",
   "metadata": {},
   "source": [
    "# Project Report -- Enron Person of Interest Project"
   ]
  },
  {
   "cell_type": "markdown",
   "metadata": {},
   "source": [
    "## 1. Overview\n",
    "\n",
    "The project attempts to predict the people involved in the Enron scheme, ‘persons of interest’. There are 18 people of interests out of 144 (12.5%). In addition, all features have missing data with some features comprised mostly of missing values. **Therefore, I edited the feature_format.py file to add an additional argument replace_median (replace NAs with median values).** \n"
    "The dataset given includes 14 features about individual’s information on financial benefits (payments and stock) involved with the company and 4 features about email communications. It is obvious that the financial information will be useful for identifying people involved since money is the motive of the scheme. Individuals with especially high rate of communication the people of interests are likely to be one.\n",
    "\n",
    "\n",
    "**Note:**\n",
    "- Since this is a small dataset, I decided to run many pipe-lined and grid-searched models. However, if you want to know the end of the movie, I find the model that applies principle component and logistic regression works best.\n",
    "- This is a project for my Data Science course at Udacity, and the code for feature_format.py(except for a few edits by me) and tester.py is written by Udacity \n",
    "- This project uses feature_format.py for data conversion and tester.py to test model with multiple stratified shuffle splittings.\n",
    "\n",
    "\n",
    "\n",
    "\n",
    "\n"
   ]
  },
  {
   "cell_type": "code",
   "execution_count": 1,
   "metadata": {
    "collapsed": false,
    "scrolled": true
   },
   "outputs": [
    {
     "name": "stdout",
     "output_type": "stream",
     "text": [
      "There are 18 pois out of 146 samples.\n",
      "salary                        51\n",
      "to_messages                   60\n",
      "deferral_payments            107\n",
      "total_payments                21\n",
      "exercised_stock_options       44\n",
      "bonus                         64\n",
      "restricted_stock              36\n",
      "shared_receipt_with_poi       60\n",
      "restricted_stock_deferred    128\n",
      "total_stock_value             20\n",
      "expenses                      51\n",
      "loan_advances                142\n",
      "from_messages                 60\n",
      "other                         53\n",
      "from_this_person_to_poi       60\n",
      "poi                            0\n",
      "director_fees                129\n",
      "deferred_income               97\n",
      "long_term_incentive           80\n",
      "from_poi_to_this_person       60\n",
      "dtype: int64\n"
     ]
    }
   ],
   "source": [
    "#Setting up the environment\n",
    "#!/usr/bin/python\n",
    "\n",
    "import sys\n",
    "import pickle\n",
    "sys.path.append(\"../tools/\")\n",
    "import numpy as np\n",
    "import pandas as pd\n",
    "import matplotlib.pyplot as plt\n",
    "%matplotlib inline\n",
    "from feature_format import featureFormat, targetFeatureSplit\n",
    "from tester import dump_classifier_and_data, test_classifier\n",
    "from sklearn.feature_selection import SelectKBest, f_classif\n",
    "from sklearn.cross_validation import train_test_split\n",
    "\n",
    "### features_list is a list of strings, each of which is a feature name.\n",
    "### Task 1: Select what features you'll use.\n",
    "### The first feature must be \"poi\".\n",
    "\n",
    " \n",
    "### Load the dictionary containing the / m. \n",
    "with open(\"final_project_dataset.pkl\", \"r\") as data_file:\n",
    "    data_dict = pickle.load(data_file)\n",
    "    data = pd.DataFrame.from_dict(data_dict,orient='index', dtype=np.float).drop('email_address',1)\n",
    "\n",
    "# Remove irrelevant outliers\n",
    "#data = data[~(data.index == 'TOTAL')]\n",
    "print 'There are %i pois out of %i samples.' %(sum(data['poi']==1),len(data['poi']))\n",
    "\n",
    "# Summary of missing values across features:\n",
    "print data.isnull().sum(axis = 0)"
   ]
  },
  {
   "cell_type": "markdown",
   "metadata": {
    "collapsed": true
   },
   "source": [
    "## 2. Feature Engineering\n",
    "\n",
    "\n",
    "I ended up keeping the features: \"shared_receipt_with_poi\",\"exercised_stock_options\", and \"from_frac\". My strategy of choosing predictors is to run ANOVA F-value for each feature in 1500 times stratified resampling (to take care of possible overfitting) and choosing the ones with the best scores from each category: payment, stock value, and email communication. I narrowed down to some set of features(see below), and the set of these 3 features yields the highest performance. \n",
    "\n",
    "I employed MinMaxScaler for SVM algorithm since the financial features have much larger values than email features, we need to scale them otherwise the effect of financial features would be exaggerated in SVM algorithm. \n",
    "\n",
    "I added 3 new variables:\n",
    "-\t‘from_frac’, ‘to_frac’: proportion of to/ from emails of a person sent from/to a poi. The motivation is that pois may communicate with each other much more frequently. The idea is also stemmed from one of the lesson videos of Udacity. As you will see below, 'from_frac' has the highest performance and turns out to be one of the key features; removing it drives the recall down though slightly increases precision. 'to_frac' is in the feature group that has better scores. However, adding 'to_frac' has near zero effect on recall and drives down the precision.\n",
    "-\t‘total_money’: I added this variable because in case the pois try to hide their financial benefits by diversifying the way they receive the money, then this sum may tell information that the individuals  features don’t. This feature, however, has a middle-range performance score. Adding this feature decreases the model's performance in terms of both precion and recall. \n",
    "Please a table below for the effect of these features.\n"
   ]
  },
  {
   "cell_type": "code",
   "execution_count": 2,
   "metadata": {
    "collapsed": false,
    "scrolled": true
   },
   "outputs": [],
   "source": [
    "### Create new features: ‘from_frac’, ‘to_frac', and 'total_money':\n",
    "\n",
    "data = data.fillna(0)\n",
    "\n",
    "data['to_frac'] = data[\"from_poi_to_this_person\"]/data[\"to_messages\"]\n",
    "data['from_frac'] = data[\"from_this_person_to_poi\"]/data[\"from_messages\"]\n",
    "data['total_money'] = data['total_payments'] + data[\"total_stock_value\"]\n",
    "data = data.fillna(0)\n",
    "\n",
    "# Convert the dataset to dictionary for later submission:\n",
    "my_dataset = data.to_dict(orient = 'index')\n",
    "\n",
    "\n",
    "\n"
   ]
  },
  {
   "cell_type": "code",
   "execution_count": 3,
   "metadata": {
    "collapsed": false
   },
   "outputs": [
    {
     "name": "stdout",
     "output_type": "stream",
     "text": [
      "Variable Importance Chart\n",
      "                      Feature P-value  Score\n",
      "0                      salary    0.85   1.92\n",
      "1                 to_messages    0.23   1.73\n",
      "2           deferral_payments    0.64   0.23\n",
      "3              total_payments    0.52   1.21\n",
      "4     exercised_stock_options    0.62   2.73\n",
      "5                       bonus    0.73   2.27\n",
      "6            restricted_stock    0.78   0.99\n",
      "7     shared_receipt_with_poi    0.01   8.20\n",
      "8   restricted_stock_deferred    0.89   0.05\n",
      "9           total_stock_value    0.66   2.61\n",
      "10                   expenses    0.79   0.65\n",
      "11              loan_advances    0.17   2.80\n",
      "12              from_messages    0.72   0.17\n",
      "13                      other    0.71   0.52\n",
      "14    from_this_person_to_poi    0.19   2.49\n",
      "15              director_fees    0.45   0.64\n",
      "16            deferred_income    0.62   1.41\n",
      "17        long_term_incentive    0.81   1.11\n",
      "18    from_poi_to_this_person    0.04   5.18\n",
      "19                    to_frac    0.10   3.16\n",
      "20                  from_frac    0.00  15.45\n",
      "21                total_money    0.60   2.00\n"
     ]
    },
    {
     "data": {
      "image/png": "iVBORw0KGgoAAAANSUhEUgAAAfwAAAIWCAYAAACyZT9qAAAABHNCSVQICAgIfAhkiAAAAAlwSFlz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\n9AD+H/0lfcX6/e+mAAAAAElFTkSuQmCC\n",
      "text/plain": [
       "<matplotlib.figure.Figure at 0xba21c88>"
      ]
     },
     "metadata": {},
     "output_type": "display_data"
    }
   ],
   "source": [
    "### Investigate Variable Importance:\n",
    "\n",
    "select = SelectKBest(k = 'all')\n",
    "\n",
    "from sklearn.cross_validation import StratifiedShuffleSplit\n",
    "labels = data['poi']\n",
    "features = data.drop('poi',axis = 1)\n",
    "\n",
    "# SelectKBest with multiple resamplings:\n",
    "from sklearn.cross_validation import StratifiedShuffleSplit\n",
    "cv = StratifiedShuffleSplit(labels, 1500, random_state = 42)\n",
    "score = []\n",
    "pval = []\n",
    "for train_idx, test_idx in cv: \n",
    "    features_train = features.iloc[train_idx,:]\n",
    "    labels_train = labels[train_idx]\n",
    "    select.fit(features_train,labels_train)\n",
    "    score.append(select.scores_)\n",
    "    pval.append(select.pvalues_)\n",
    "    \n",
    "avgscore = np.mean(score, axis = 0)\n",
    "avgpval = np.mean(pval, axis = 0)\n",
    "\n",
    "\n",
    "print \"Variable Importance Chart\"\n",
    "print pd.DataFrame(\n",
    "    {'Feature': features.columns,\n",
    "     'Score': [ '%.2f' % elem for elem in avgscore],\n",
    "     'P-value': [ '%.2f' % elem for elem in avgpval]\n",
    "    })\n",
    "\n",
    "indices = np.argsort(avgscore)\n",
    "\n",
    "plt.figure()\n",
    "plt.title(\"Feature importances\")\n",
    "plt.bar(range(len(avgscore)), avgscore[indices],\n",
    "       color=\"r\", align=\"center\")\n",
    "plt.xticks(range(len(avgscore)), features.columns[indices],rotation=90)\n",
    "plt.xlim([-1, len(avgscore)])\n",
    "plt.show()\n",
    "\n",
    "    "
   ]
  },
  {
   "cell_type": "markdown",
   "metadata": {},
   "source": [
    "I have tried including many features as computation cost is not a problem for this dataset. However, to my surprise, adding features makes the algorithms perform poorer. You will see below that I include all the features that has p-values < 0.3 in set feature_list1 and the same algorithm all perform poorer with this set. A possible explanation is that this dataset has many missing values (which we have filled them with 0 and this is wrong information).\n",
    "\n",
    "\n",
    "# Model building and Evaluation\n",
    "\n",
    "\n",
    "The algorithm I employed are a pipeline whose first step is PCA with 1 principle component and the last step is logistic regression. Since this is a small dataset that doesn’t take long to train, I have tried pipeline with PCA with other classifiers: decision tree, k nearest neighbor, random forest. I chose the model of PCA with logistic regression since it has the highest recall and above 30% precision. I would argue that in this problem, we care more about recall than precision. Random forest and decision tree perform decently though inferior to logistic regression. In one model, random forest outperforms logistic regression slightly in precision score but still have a lower recall. K nearest neighbors, to my surprise as I expect 'pois' would have similar behaviors, did not perform very well.\n",
    "\n",
    "\n",
    "\n",
    "** Model Performance Summary\n",
    "<pre>\n",
    "```\n",
    "\n",
    "| Model         | Features       | Precision | Recall |\n",
    "|---------------|----------------|-----------|--------|\n",
    "| K Neighbors   | feature_list2  |  0.24     |  0.14  |\n",
    "| Logistic Reg  | feature_list2  |  0.32     |  0.89  |** Best performance\n",
    "| Decision Tree | feature_list2  |  0.31     |  0.65  |\n",
    "| Random Forest | feature_list2  |  0.34     |  0.74  |\n",
    "| K Neighbors   | feature_list1  |  0.28     |  0.24  |\n",
    "| Logistic Reg  | feature_list1  |  0.22     |  0.87  |\n",
    "| Decision Tree | feature_list1  |  0.18     |  0.82  |\n",
    "| Random Forest | feature_list1  |  0.26     |  0.75  |\n",
    "| Logistic Reg  | feature_list21 |  0.27     |  0.77  | *effect of removing 'total_money' from best-performing model\n",
    "| Logistic Reg  | feature_list21 |  0.30     |  0.89  | *effect of removing 'to_frac' from best-performing model\n",
    "| Logistic Reg  | feature_list21 |  0.36     |  0.78  | *effect of removing 'from_frac' from best-performing model\n",
    "\n",
    "```\n",
    "</pre>"
   ]
  },
  {
   "cell_type": "code",
   "execution_count": 4,
   "metadata": {
    "collapsed": false,
    "scrolled": true
   },
   "outputs": [
    {
     "name": "stdout",
     "output_type": "stream",
     "text": [
      "Pipeline(steps=[('pca', PCA(copy=True, n_components=3, whiten=False)), ('scale', MinMaxScaler(copy=True, feature_range=(0, 1))), ('kn', KNeighborsClassifier(algorithm='auto', leaf_size=30, metric='minkowski',\n",
      "           metric_params=None, n_jobs=1, n_neighbors=5, p=2,\n",
      "           weights='uniform'))])\n",
      "\tAccuracy: 0.82092\tPrecision: 0.29602\tRecall: 0.11900\tF1: 0.16976\tF2: 0.13517\n",
      "\tTotal predictions: 13000\tTrue positives:  238\tFalse positives:  566\tFalse negatives: 1762\tTrue negatives: 10434\n",
      "\n",
      "Pipeline(steps=[('pca', PCA(copy=True, n_components=2, whiten=False)), ('clf', LogisticRegression(C=0.0003, class_weight='balanced', dual=False,\n",
      "          fit_intercept=True, intercept_scaling=1, max_iter=100,\n",
      "          multi_class='ovr', n_jobs=1, penalty='l2', random_state=111,\n",
      "          solver='liblinear', tol=0.0001, verbose=0, warm_start=False))])\n",
      "\tAccuracy: 0.70185\tPrecision: 0.32681\tRecall: 0.88500\tF1: 0.47735\tF2: 0.65966\n",
      "\tTotal predictions: 13000\tTrue positives: 1770\tFalse positives: 3646\tFalse negatives:  230\tTrue negatives: 7354\n",
      "\n",
      "Pipeline(steps=[('pca', PCA(copy=True, n_components=2, whiten=False)), ('clf', DecisionTreeClassifier(class_weight='balanced', criterion='gini', max_depth=3,\n",
      "            max_features=None, max_leaf_nodes=None, min_samples_leaf=1,\n",
      "            min_samples_split=2, min_weight_fraction_leaf=0.0,\n",
      "            presort=False, random_state=111, splitter='best'))])\n",
      "\tAccuracy: 0.78754\tPrecision: 0.37749\tRecall: 0.58700\tF1: 0.45949\tF2: 0.52835\n",
      "\tTotal predictions: 13000\tTrue positives: 1174\tFalse positives: 1936\tFalse negatives:  826\tTrue negatives: 9064\n",
      "\n",
      "Pipeline(steps=[('pca', PCA(copy=True, n_components=3, whiten=False)), ('clf', RandomForestClassifier(bootstrap=True, class_weight='balanced',\n",
      "            criterion='gini', max_depth=1, max_features='auto',\n",
      "            max_leaf_nodes=None, min_samples_leaf=1, min_samples_split=2,\n",
      "            min_weight_fraction_leaf=0.0, n_estimators=10, n_jobs=1,\n",
      "            oob_score=False, random_state=111, verbose=0, warm_start=False))])\n",
      "\tAccuracy: 0.73762\tPrecision: 0.32437\tRecall: 0.65150\tF1: 0.43311\tF2: 0.54215\n",
      "\tTotal predictions: 13000\tTrue positives: 1303\tFalse positives: 2714\tFalse negatives:  697\tTrue negatives: 8286\n",
      "\n"
     ]
    }
   ],
   "source": [
    "# Sets of features to train on:\n",
    "feature_list1 = ['to_messages','shared_receipt_with_poi','loan_advances','from_this_person_to_poi',\n",
    "             'from_poi_to_this_person','to_frac','from_frac'] # features with p-val < 0.3\n",
    "feature_list2 = ['from_frac','shared_receipt_with_poi','exercised_stock_options']\n",
    "feature_list21 = feature_list2 + ['total_money'] # adding 'total_money'\n",
    "feature_list22 = feature_list2 + ['to_frac'] # adding 'to_frac'\n",
    "feature_list23 = ['shared_receipt_with_poi','exercised_stock_options'] # removing 'from_frac'\n",
    "\n",
    "\n",
    "feature_use = feature_list2 #Replace feature set to run on\n",
    "\n",
    "features = data[feature_use]\n",
    "features_list = ['poi'] + feature_use\n",
    "\n",
    "\n",
    "from sklearn.neighbors import KNeighborsClassifier\n",
    "clf_kn = KNeighborsClassifier()\n",
    "from sklearn.tree import DecisionTreeClassifier\n",
    "clf_dectree = DecisionTreeClassifier(class_weight = 'balanced',random_state = 111)\n",
    "from sklearn.linear_model import LogisticRegression\n",
    "clf_log = LogisticRegression(class_weight = 'balanced',random_state = 111)\n",
    "from sklearn.ensemble import RandomForestClassifier\n",
    "clf_rf = RandomForestClassifier(class_weight = 'balanced',random_state = 111)\n",
    "\n",
    "\n",
    "from sklearn.preprocessing import MinMaxScaler\n",
    "from sklearn.grid_search import GridSearchCV\n",
    "from sklearn.decomposition import PCA\n",
    "from sklearn.pipeline import Pipeline\n",
    "pca = PCA()\n",
    "n_compnt = range(len(feature_use)) + [3]\n",
    "n_compnt.remove(0)\n",
    "    \n",
    "    \n",
    "pipe_kn = Pipeline(steps = [('pca',pca),('scale',MinMaxScaler()),('kn',clf_kn)])\n",
    "param_grid_kn = dict(pca__n_components = n_compnt,\n",
    "                     kn__n_neighbors = [3,5,7,11],\n",
    "                     kn__weights = ['uniform','distance'])\n",
    "grid_search_kn = GridSearchCV(pipe_kn, param_grid_kn, scoring = 'recall')\n",
    "grid_search_kn.fit(features,labels)\n",
    "test_classifier(grid_search_kn.best_estimator_,my_dataset,features_list)\n",
    "\n",
    "\n",
    "pipe_log = Pipeline(steps = [('pca',pca),('clf',clf_log)])\n",
    "param_grid_log = dict(pca__n_components = n_compnt,\n",
    "                      clf__C = [0.0003,0.001,0.003,0.01,0.03,0.1,0.3,1,3])\n",
    "grid_search_log = GridSearchCV(pipe_log,param_grid_log,scoring = 'recall')\n",
    "grid_search_log.fit(features,labels)\n",
    "test_classifier(grid_search_log.best_estimator_,my_dataset,features_list)\n",
    "\n",
    "pipe_dectree = Pipeline(steps = [('pca',pca),('clf',clf_dectree)])\n",
    "param_grid_dectree = dict(pca__n_components = n_compnt,\n",
    "                          clf__max_depth = [1,2,3,5,7])\n",
    "grid_search_dectree = GridSearchCV(pipe_dectree,param_grid_dectree,scoring = 'recall')\n",
    "grid_search_dectree.fit(features,labels)\n",
    "test_classifier(grid_search_dectree.best_estimator_,my_dataset,features_list)\n",
    "\n",
    "pipe_rf = Pipeline(steps = [('pca',pca),('clf',clf_rf)])\n",
    "param_grid_rf = dict(pca__n_components = n_compnt,\n",
    "                     clf__max_depth = [1,2,3,5,7])\n",
    "grid_search_rf = GridSearchCV(pipe_rf,param_grid_rf,scoring = 'recall')\n",
    "grid_search_rf.fit(features,labels)\n",
    "test_classifier(grid_search_rf.best_estimator_,my_dataset,features_list)\n",
    "\n",
    "\n"
   ]
  },
  {
   "cell_type": "markdown",
   "metadata": {},
   "source": [
    "\n",
    "Tuning parameters of an algorithm means selecting the set of parameters to optimize the performance of the algorithm. If tuning parameters isn’t done properly, the model may overfit or underfit.\n",
    "\n",
    "I used grid search with cross validation to tune the parameters. Since training the dataset takes place quickly, I tuned parameters for all-of-the-above algorithms (but only presented in the code the best three) and select the model that performs the best. I also tune the feature_format function, to see if the result is better if I replace missing values by medians instead of 0s. I find replacing the missing values by 0s yields the best result. \n",
    "\n",
    "\n",
    "\n",
    "\n",
    "\n",
    "# 4. Evaluation\n",
    "\n",
    "The precision and recall of my model is 32% and 89% respectively. This means that my algorithm predicts a ‘poi’ accurately 32% of the times; of all people predicted as a ‘poi’, 32% are actually ‘pois’. The recall suggests that my model is able to identify 89% of ‘pois’. \n",
    "\n"
   ]
  },
  {
   "cell_type": "code",
   "execution_count": 6,
   "metadata": {
    "collapsed": false
   },
   "outputs": [],
   "source": [
    "clf = grid_search_log.best_estimator_\n",
    "dump_classifier_and_data(clf, my_dataset, features_list)"
   ]
  }
 ],
 "metadata": {
  "anaconda-cloud": {},
  "kernelspec": {
   "display_name": "Python [conda root]",
   "language": "python",
   "name": "conda-root-py"
  },
  "language_info": {
   "codemirror_mode": {
    "name": "ipython",
    "version": 2
   },
   "file_extension": ".py",
   "mimetype": "text/x-python",
   "name": "python",
   "nbconvert_exporter": "python",
   "pygments_lexer": "ipython2",
   "version": "2.7.12"
  }
 },
 "nbformat": 4,
 "nbformat_minor": 1
}
